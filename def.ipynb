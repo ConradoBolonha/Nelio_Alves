{
 "cells": [
  {
   "cell_type": "code",
   "execution_count": null,
   "metadata": {},
   "outputs": [],
   "source": [
    "def teste():\n",
    "    \n",
    "    print('Teste')\n",
    "    \n",
    "teste()"
   ]
  },
  {
   "cell_type": "code",
   "execution_count": null,
   "metadata": {},
   "outputs": [],
   "source": [
    "def teste():\n",
    "    \n",
    "    print('Teste 1')\n",
    "    print('Teste 2')\n",
    "    print('Teste 3')\n",
    "    \n",
    "teste()"
   ]
  },
  {
   "cell_type": "code",
   "execution_count": null,
   "metadata": {},
   "outputs": [],
   "source": [
    "def teste_2(a, b, c):\n",
    "    \n",
    "    print(a, b, c)\n",
    "    \n",
    "teste_2(1, 2, 3)\n",
    "teste_2(4, 5, 6)"
   ]
  },
  {
   "cell_type": "code",
   "execution_count": 19,
   "metadata": {},
   "outputs": [
    {
     "name": "stdout",
     "output_type": "stream",
     "text": [
      "3 2 1\n",
      "6 5 4\n"
     ]
    }
   ],
   "source": [
    "def teste_2(a, b, c):\n",
    "    \n",
    "    print(c, b, a)\n",
    "    \n",
    "teste_2(1, 2, 3)\n",
    "teste_2(4, 5, 6)"
   ]
  },
  {
   "cell_type": "code",
   "execution_count": null,
   "metadata": {},
   "outputs": [],
   "source": [
    "def teste_lista():\n",
    "    \n",
    "    lista_2 = ['Maça', 'Uva', 'Mamão', 'Laranja', 'Banana', 'Melancia', 'Limão']\n",
    "\n",
    "    lis, *_ = lista_2\n",
    "    \n",
    "    print(lis, *_)\n",
    "\n",
    "teste_lista()\n",
    "teste_lista()\n",
    "teste_lista()\n"
   ]
  },
  {
   "cell_type": "code",
   "execution_count": null,
   "metadata": {},
   "outputs": [],
   "source": [
    "def soma():    \n",
    "    n1 = int(input('1º número: '))\n",
    "    n2 = int(input('2º número: '))\n",
    "    n3 = int(input('3º número: '))\n",
    "    soma_1 = n1 + n2\n",
    "    soma_2 = n2 + n3    \n",
    "    print(soma_1)\n",
    "    print(soma_2)    \n",
    "soma()\n"
   ]
  }
 ],
 "metadata": {
  "kernelspec": {
   "display_name": "Python 3",
   "language": "python",
   "name": "python3"
  },
  "language_info": {
   "codemirror_mode": {
    "name": "ipython",
    "version": 3
   },
   "file_extension": ".py",
   "mimetype": "text/x-python",
   "name": "python",
   "nbconvert_exporter": "python",
   "pygments_lexer": "ipython3",
   "version": "3.11.2"
  },
  "orig_nbformat": 4
 },
 "nbformat": 4,
 "nbformat_minor": 2
}
