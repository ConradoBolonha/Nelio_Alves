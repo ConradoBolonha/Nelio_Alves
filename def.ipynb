{
 "cells": [
  {
   "cell_type": "code",
   "execution_count": null,
   "metadata": {},
   "outputs": [],
   "source": [
    "def teste():\n",
    "    \n",
    "    print('Teste')\n",
    "    \n",
    "teste()"
   ]
  },
  {
   "cell_type": "code",
   "execution_count": null,
   "metadata": {},
   "outputs": [],
   "source": [
    "def teste():\n",
    "    \n",
    "    print('Teste 1')\n",
    "    print('Teste 2')\n",
    "    print('Teste 3')\n",
    "    \n",
    "teste()"
   ]
  },
  {
   "cell_type": "code",
   "execution_count": null,
   "metadata": {},
   "outputs": [],
   "source": [
    "def teste_2(a, b, c):\n",
    "    \n",
    "    print(a, b, c)\n",
    "    \n",
    "teste_2(1, 2, 3)\n",
    "teste_2(4, 5, 6)"
   ]
  },
  {
   "cell_type": "code",
   "execution_count": null,
   "metadata": {},
   "outputs": [],
   "source": [
    "def teste_2(a, b, c):\n",
    "    \n",
    "    print(a, b, c)\n",
    "    print(b, b, b)\n",
    "    \n",
    "teste_2(1, 2, 3)\n",
    "teste_2(4, 5, 6)\n"
   ]
  },
  {
   "cell_type": "code",
   "execution_count": null,
   "metadata": {},
   "outputs": [],
   "source": [
    "def teste_lista():\n",
    "    \n",
    "    lista_2 = ['Maça', 'Uva', 'Mamão', 'Laranja', 'Banana', 'Melancia', 'Limão']\n",
    "\n",
    "    lis, *_ = lista_2\n",
    "    \n",
    "    print(lis, *_)\n",
    "\n",
    "teste_lista()\n",
    "teste_lista()\n",
    "teste_lista()\n"
   ]
  },
  {
   "cell_type": "code",
   "execution_count": null,
   "metadata": {},
   "outputs": [],
   "source": [
    "def soma():    \n",
    "    n1 = int(input('1º número: '))\n",
    "    n2 = int(input('2º número: '))\n",
    "    n3 = int(input('3º número: '))\n",
    "    soma_1 = n1 + n2\n",
    "    soma_2 = n2 + n3    \n",
    "    print(soma_1)\n",
    "    print(soma_2)    \n",
    "soma()\n"
   ]
  },
  {
   "cell_type": "code",
   "execution_count": null,
   "metadata": {},
   "outputs": [],
   "source": [
    "def saudacao(nome):\n",
    "    print(f'Olá {nome}')\n",
    "\n",
    "saudacao('Zeca')\n",
    "saudacao('Joana')"
   ]
  },
  {
   "cell_type": "code",
   "execution_count": null,
   "metadata": {},
   "outputs": [],
   "source": [
    "def saudacao(nome = 'Sr. Argumento'):\n",
    "    print(f'Olá {nome}')\n",
    "\n",
    "saudacao('Zeca')\n",
    "saudacao('Joana')\n",
    "saudacao()"
   ]
  },
  {
   "cell_type": "code",
   "execution_count": null,
   "metadata": {},
   "outputs": [],
   "source": [
    "def num(n1, n2):\n",
    "\n",
    "    mult_1 = n1 + n2\n",
    "    print(mult_1)\n",
    "    mult_2 = n1 * n2\n",
    "    print(mult_2)\n",
    "\n",
    "num(2, 4)\n",
    "num(1, 20)\n"
   ]
  },
  {
   "cell_type": "code",
   "execution_count": null,
   "metadata": {},
   "outputs": [],
   "source": [
    "def maior():\n",
    "    n1 = int(input('1º número: '))\n",
    "    n2 = int(input('2º número: '))\n",
    "    \n",
    "    if n1 == n2:\n",
    "        print(f'{n1} é igual a {n2}')\n",
    "    elif n1 > n2:\n",
    "        print(f'{n1} é maior que {n2}')\n",
    "    else:\n",
    "        print(f'{n2} é maior que {n1}')\n",
    "maior()"
   ]
  },
  {
   "cell_type": "code",
   "execution_count": null,
   "metadata": {},
   "outputs": [],
   "source": [
    "def soma(x, y):\n",
    "    print(f'{x=} e {y=} =', x + y)\n",
    "soma(1, 3)\n",
    "soma(5, 10)\n",
    "soma(100, 200)"
   ]
  },
  {
   "cell_type": "code",
   "execution_count": null,
   "metadata": {},
   "outputs": [],
   "source": [
    "x = 5\n",
    "\n",
    "def escopo():\n",
    "    print(x)\n",
    "    \n",
    "escopo()"
   ]
  },
  {
   "cell_type": "code",
   "execution_count": null,
   "metadata": {},
   "outputs": [],
   "source": [
    "x = 5\n",
    "\n",
    "def escopo():\n",
    "    global x\n",
    "    x = 10\n",
    "    print(x)\n",
    "    \n",
    "    def outro_escopo():\n",
    "        global x\n",
    "        x = 25\n",
    "        print(x)\n",
    "    outro_escopo()\n",
    "    \n",
    "escopo()\n",
    "print(x)\n"
   ]
  },
  {
   "cell_type": "code",
   "execution_count": 1,
   "metadata": {},
   "outputs": [
    {
     "name": "stdout",
     "output_type": "stream",
     "text": [
      "6\n"
     ]
    }
   ],
   "source": [
    "num = (1, 2, 3)\n",
    "print(sum(num))\n"
   ]
  },
  {
   "cell_type": "code",
   "execution_count": 10,
   "metadata": {},
   "outputs": [
    {
     "name": "stdout",
     "output_type": "stream",
     "text": [
      "120\n"
     ]
    }
   ],
   "source": [
    "### Exercícios com funções ###\n",
    "\n",
    "'''Crie uma função que multiplica todos os argumentos NÃO NOMEADOS recebidos, retorne o total\n",
    "para uma variável e mostre o valor da variável.\n",
    "'''\n",
    "\n",
    "def multiplicacao(*args):\n",
    "    total = 1\n",
    "    for numero in args:\n",
    "        total *= numero\n",
    "    return total\n",
    "resultado = multiplicacao(1, 2, 3, 4, 5)\n",
    "print(resultado)"
   ]
  },
  {
   "cell_type": "code",
   "execution_count": null,
   "metadata": {},
   "outputs": [],
   "source": [
    "# Crie uma função fala se um número é par ou ímpar e retorne se o número é par ou ímpar.\n",
    "\n"
   ]
  }
 ],
 "metadata": {
  "kernelspec": {
   "display_name": "Python 3",
   "language": "python",
   "name": "python3"
  },
  "language_info": {
   "codemirror_mode": {
    "name": "ipython",
    "version": 3
   },
   "file_extension": ".py",
   "mimetype": "text/x-python",
   "name": "python",
   "nbconvert_exporter": "python",
   "pygments_lexer": "ipython3",
   "version": "3.11.2"
  },
  "orig_nbformat": 4
 },
 "nbformat": 4,
 "nbformat_minor": 2
}
