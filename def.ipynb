{
 "cells": [
  {
   "cell_type": "code",
   "execution_count": null,
   "metadata": {},
   "outputs": [],
   "source": [
    "def teste():\n",
    "    \n",
    "    print('Teste')\n",
    "    \n",
    "teste()"
   ]
  },
  {
   "cell_type": "code",
   "execution_count": null,
   "metadata": {},
   "outputs": [],
   "source": [
    "def teste():\n",
    "    \n",
    "    print('Teste 1')\n",
    "    print('Teste 2')\n",
    "    print('Teste 3')\n",
    "    \n",
    "teste()"
   ]
  },
  {
   "cell_type": "code",
   "execution_count": null,
   "metadata": {},
   "outputs": [],
   "source": [
    "def teste_2(a, b, c):\n",
    "    \n",
    "    print(a, b, c)\n",
    "    \n",
    "teste_2(1, 2, 3)\n",
    "teste_2(4, 5, 6)"
   ]
  },
  {
   "cell_type": "code",
   "execution_count": null,
   "metadata": {},
   "outputs": [],
   "source": [
    "def teste_2(a, b, c):\n",
    "    \n",
    "    print(a, b, c)\n",
    "    print(b, b, b)\n",
    "    \n",
    "teste_2(1, 2, 3)\n",
    "teste_2(4, 5, 6)\n"
   ]
  },
  {
   "cell_type": "code",
   "execution_count": null,
   "metadata": {},
   "outputs": [],
   "source": [
    "def teste_lista():\n",
    "    \n",
    "    lista_2 = ['Maça', 'Uva', 'Mamão', 'Laranja', 'Banana', 'Melancia', 'Limão']\n",
    "\n",
    "    lis, *_ = lista_2\n",
    "    \n",
    "    print(lis, *_)\n",
    "\n",
    "teste_lista()\n",
    "teste_lista()\n",
    "teste_lista()\n"
   ]
  },
  {
   "cell_type": "code",
   "execution_count": null,
   "metadata": {},
   "outputs": [],
   "source": [
    "def soma():    \n",
    "    n1 = int(input('1º número: '))\n",
    "    n2 = int(input('2º número: '))\n",
    "    n3 = int(input('3º número: '))\n",
    "    soma_1 = n1 + n2\n",
    "    soma_2 = n2 + n3    \n",
    "    print(soma_1)\n",
    "    print(soma_2)    \n",
    "soma()\n"
   ]
  },
  {
   "cell_type": "code",
   "execution_count": null,
   "metadata": {},
   "outputs": [],
   "source": [
    "def saudacao(nome):\n",
    "    print(f'Olá {nome}')\n",
    "\n",
    "saudacao('Zeca')\n",
    "saudacao('Joana')"
   ]
  },
  {
   "cell_type": "code",
   "execution_count": null,
   "metadata": {},
   "outputs": [],
   "source": [
    "def saudacao(nome = 'Sr. Argumento'):\n",
    "    print(f'Olá {nome}')\n",
    "\n",
    "saudacao('Zeca')\n",
    "saudacao('Joana')\n",
    "saudacao()"
   ]
  },
  {
   "cell_type": "code",
   "execution_count": null,
   "metadata": {},
   "outputs": [],
   "source": [
    "def num(n1, n2):\n",
    "\n",
    "    mult_1 = n1 + n2\n",
    "    print(mult_1)\n",
    "    mult_2 = n1 * n2\n",
    "    print(mult_2)\n",
    "\n",
    "num(2, 4)\n",
    "num(1, 20)\n"
   ]
  },
  {
   "cell_type": "code",
   "execution_count": null,
   "metadata": {},
   "outputs": [],
   "source": [
    "def maior():\n",
    "    n1 = int(input('1º número: '))\n",
    "    n2 = int(input('2º número: '))\n",
    "    \n",
    "    if n1 == n2:\n",
    "        print(f'{n1} é igual a {n2}')\n",
    "    elif n1 > n2:\n",
    "        print(f'{n1} é maior que {n2}')\n",
    "    else:\n",
    "        print(f'{n2} é maior que {n1}')\n",
    "maior()"
   ]
  },
  {
   "cell_type": "code",
   "execution_count": null,
   "metadata": {},
   "outputs": [],
   "source": [
    "def soma(x, y):\n",
    "    print(f'{x=} e {y=} =', x + y)\n",
    "soma(1, 3)\n",
    "soma(5, 10)\n",
    "soma(100, 200)"
   ]
  },
  {
   "cell_type": "code",
   "execution_count": null,
   "metadata": {},
   "outputs": [],
   "source": [
    "x = 5\n",
    "\n",
    "def escopo():\n",
    "    print(x)\n",
    "    \n",
    "escopo()"
   ]
  },
  {
   "cell_type": "code",
   "execution_count": null,
   "metadata": {},
   "outputs": [],
   "source": [
    "\"\"\"\n",
    "*** Escopo de funções em Python ***\n",
    "\n",
    "Escopo significa o local onde aquele código pode atingir.\n",
    "Existe o escopo global e local.\n",
    "O escopo global é o escopo onde todo o código é alcançavel.\n",
    "O escopo local é o escopo onde apenas nomes do mesmo local podem ser alcançados.\n",
    "Valores atribuídos a escopos são lidos de dentro para fora. De fora para dentro não funciona.\n",
    "A palavra global faz uma variável do escopo externo ser a mesma no escopo interno.\n",
    "\"\"\"\n",
    "\n",
    "x = 5\n",
    "\n",
    "def escopo():\n",
    "    global x\n",
    "    x = 10\n",
    "    print(x)\n",
    "    \n",
    "    def outro_escopo():\n",
    "        global x\n",
    "        x = 25\n",
    "        print(x)\n",
    "    outro_escopo()\n",
    "    \n",
    "escopo()\n",
    "print(x)\n"
   ]
  },
  {
   "cell_type": "code",
   "execution_count": null,
   "metadata": {},
   "outputs": [],
   "source": [
    "w = 80\n",
    "\n",
    "def teste_escopo():\n",
    "    w = 40\n",
    "    print(w)\n",
    "    \n",
    "    def teste_2():\n",
    "        w = 65\n",
    "        print(w)\n",
    "        \n",
    "    teste_2()\n",
    "print(w)\n",
    "teste_escopo()\n"
   ]
  },
  {
   "cell_type": "code",
   "execution_count": null,
   "metadata": {},
   "outputs": [],
   "source": [
    "def numeros(*args):\n",
    "    total = 0\n",
    "    for cont in args:\n",
    "        print('Total', total, cont)\n",
    "        total += cont\n",
    "        print('Total', total)\n",
    "    \n",
    "numeros(1, 2, 3, 4, 5, 6)"
   ]
  },
  {
   "cell_type": "code",
   "execution_count": null,
   "metadata": {},
   "outputs": [],
   "source": [
    "def soma(x, y):\n",
    "    return x + y\n",
    "\n",
    "soma1 = soma(2, 4)\n",
    "soma2 = soma(10, 20)\n",
    "\n",
    "print(soma1, soma2)\n",
    "print(soma1 + soma2)\n"
   ]
  },
  {
   "cell_type": "code",
   "execution_count": null,
   "metadata": {},
   "outputs": [],
   "source": [
    "def soma(x, y):\n",
    "    \n",
    "    # if x > 10:\n",
    "    #     return (f'X maior que 10')\n",
    "    return x + y\n",
    "\n",
    "soma1 = soma(11, 6)\n",
    "soma2 = soma(9, 20)\n",
    "\n",
    "print(soma1, soma2)\n",
    "print(soma1 + soma2)"
   ]
  },
  {
   "cell_type": "code",
   "execution_count": null,
   "metadata": {},
   "outputs": [],
   "source": [
    "'''Crie uma função que multiplique todos argumentos não nomeados recebidos, retorne\n",
    "o total para uma variável e motre o valor da variável'''\n",
    "\n",
    "def multiply (*args):\n",
    "    total = 1\n",
    "    for numeros in args:\n",
    "        total *= numeros\n",
    "    return total\n",
    "multiply(1, 2, 3, 4, 5)\n"
   ]
  },
  {
   "cell_type": "code",
   "execution_count": null,
   "metadata": {},
   "outputs": [],
   "source": [
    "'''Crie uma função que mostre se um número é par ou ímpar e imprima o resultado na tela'''\n",
    "\n",
    "def par_impar():\n",
    "    num = int(input('Número: '))\n",
    "    if num % 2 == 0:\n",
    "        print(f'O número {num} é PAR')\n",
    "    else:\n",
    "        print(f'O número {num} é ÍMPAR')\n",
    "par_impar()\n"
   ]
  },
  {
   "cell_type": "code",
   "execution_count": null,
   "metadata": {},
   "outputs": [],
   "source": [
    "def par_impar(numero):\n",
    "    if numero % 2 == 0:\n",
    "        return f'{numero} é PAR'\n",
    "    return f'{numero} é IMPAR'\n",
    "print(par_impar(2))\n",
    "print(par_impar(5))\n",
    "print(par_impar(18))\n",
    "print(par_impar(22))\n",
    "print(par_impar(9))\n"
   ]
  },
  {
   "cell_type": "code",
   "execution_count": null,
   "metadata": {},
   "outputs": [],
   "source": [
    "### FUNÇÕES DE PRIMEIRA CLASSE (High Order Functions ou First Class Function) ###\n",
    "\n",
    "def saudacao(mensagem):\n",
    "    return mensagem\n",
    "print(saudacao('Olá pessoal'))"
   ]
  },
  {
   "cell_type": "code",
   "execution_count": null,
   "metadata": {},
   "outputs": [],
   "source": [
    "def printa_saudacao(saudacao, nome):\n",
    "    return f'{saudacao}, {nome}'\n",
    "print(printa_saudacao('Bom dia', 'Conrado'))"
   ]
  },
  {
   "cell_type": "code",
   "execution_count": null,
   "metadata": {},
   "outputs": [],
   "source": [
    "'''Crie funções que duplicam, triplicam e quadruplica o número recebido como parâmetro'''\n",
    "\n"
   ]
  }
 ],
 "metadata": {
  "kernelspec": {
   "display_name": "Python 3",
   "language": "python",
   "name": "python3"
  },
  "language_info": {
   "codemirror_mode": {
    "name": "ipython",
    "version": 3
   },
   "file_extension": ".py",
   "mimetype": "text/x-python",
   "name": "python",
   "nbconvert_exporter": "python",
   "pygments_lexer": "ipython3",
   "version": "3.11.2"
  },
  "orig_nbformat": 4
 },
 "nbformat": 4,
 "nbformat_minor": 2
}
