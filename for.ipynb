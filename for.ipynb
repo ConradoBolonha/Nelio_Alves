{
 "cells": [
  {
   "cell_type": "code",
   "execution_count": null,
   "metadata": {},
   "outputs": [],
   "source": [
    "# texto = 'Python'\n",
    "# i = 0\n",
    "\n",
    "# while 1 < len(texto):\n",
    "#     print(texto[i], i)\n",
    "#     i += 1\n",
    "\n",
    "texto = 'Python'\n",
    "# i = 0\n",
    "novo_texto = ''\n",
    "\n",
    "for letra in texto:\n",
    "#     i += 1\n",
    "    novo_texto += f'*{letra}'\n",
    "#     print(letra, i)\n",
    "print()\n",
    "print(novo_texto)\n",
    "print(novo_texto + '*')"
   ]
  },
  {
   "cell_type": "code",
   "execution_count": null,
   "metadata": {},
   "outputs": [],
   "source": [
    "contagem = range(10)\n",
    "\n",
    "for i in contagem:\n",
    "    print(i, end=' ')"
   ]
  },
  {
   "cell_type": "code",
   "execution_count": null,
   "metadata": {},
   "outputs": [],
   "source": [
    "contagem = range(0, 31, 3)\n",
    "\n",
    "for i in contagem:\n",
    "    print(i, end=' ')"
   ]
  },
  {
   "cell_type": "code",
   "execution_count": 19,
   "metadata": {},
   "outputs": [
    {
     "name": "stdout",
     "output_type": "stream",
     "text": [
      "0 -1 -2 -3 -4 -5 -6 -7 -8 -9 "
     ]
    }
   ],
   "source": [
    "contagem = range(0, -10, -1)\n",
    "\n",
    "for i in contagem:\n",
    "    print(i, end=' ')"
   ]
  }
 ],
 "metadata": {
  "kernelspec": {
   "display_name": "Python 3",
   "language": "python",
   "name": "python3"
  },
  "language_info": {
   "codemirror_mode": {
    "name": "ipython",
    "version": 3
   },
   "file_extension": ".py",
   "mimetype": "text/x-python",
   "name": "python",
   "nbconvert_exporter": "python",
   "pygments_lexer": "ipython3",
   "version": "3.11.2"
  },
  "orig_nbformat": 4
 },
 "nbformat": 4,
 "nbformat_minor": 2
}
