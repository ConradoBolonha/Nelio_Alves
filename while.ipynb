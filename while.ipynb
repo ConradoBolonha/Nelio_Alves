{
 "cells": [
  {
   "cell_type": "code",
   "execution_count": null,
   "metadata": {},
   "outputs": [],
   "source": [
    "qtdade_colunas = 5\n",
    "qtdade_linhas = 5\n",
    "\n",
    "linha = 1\n",
    "\n",
    "while linha <= qtdade_linhas:\n",
    "    coluna = 1\n",
    "    while coluna <= qtdade_colunas:\n",
    "        print(f'{linha=}, {coluna=}')\n",
    "        coluna += 1\n",
    "    linha += 1\n",
    "    \n",
    "print('FIM')\n"
   ]
  },
  {
   "cell_type": "code",
   "execution_count": null,
   "metadata": {},
   "outputs": [],
   "source": [
    "nome = 'Conrado Pinheiro Bolonha'\n",
    "indice = 0\n",
    "novo_nome = ''\n",
    "\n",
    "while indice < len(nome):\n",
    "\tletra = nome[indice]\n",
    "\tnovo_nome += f'*{letra}'\n",
    "\tindice += 1\n",
    "novo_nome += '*' # --> Adiciona um \"*\" após o último índice.\n",
    "print(novo_nome)"
   ]
  },
  {
   "cell_type": "code",
   "execution_count": null,
   "metadata": {},
   "outputs": [],
   "source": [
    "### CALCULADORA ###\n",
    "\n",
    "n1 = float(input('Primeiro número: '))\n",
    "n2 = float(input('Segundo número: '))\n",
    "\n",
    "opcao = input('Qual operação deseja fazer:\\n[so]mar, \\n[su]btrair, \\n[mu]ltiplicar, \\n[di]vidir' )\n"
   ]
  },
  {
   "cell_type": "code",
   "execution_count": null,
   "metadata": {},
   "outputs": [],
   "source": [
    "frase = 'Python é uma linguagem legal. ' \\\n",
    "        'Foi criado por Guido van Rossum. ' \\\n",
    "        'Hoje é dia doze de junho'\n",
    "        \n",
    "print(frase.count('o'))"
   ]
  },
  {
   "cell_type": "code",
   "execution_count": null,
   "metadata": {},
   "outputs": [],
   "source": [
    "num = int(input('Número: '))\n",
    "contador = 0\n",
    "while contador <= 10:\n",
    "    print(f'{num} X {contador} = {num * contador}')\n",
    "    contador += 1\n"
   ]
  },
  {
   "cell_type": "code",
   "execution_count": null,
   "metadata": {},
   "outputs": [],
   "source": [
    "sexo = input('Sexo: [M] [F]').upper().strip()[0]\n",
    "while sexo not in 'MF':\n",
    "    sexo = input('Opção inválida. Informe M ou F)').upper().strip()[0]\n",
    "print(f'Opção {sexo} cadastrada com sucesso.')\n"
   ]
  },
  {
   "cell_type": "code",
   "execution_count": null,
   "metadata": {},
   "outputs": [],
   "source": [
    "'''O computador gera um número randômico entre 0 e 10.\n",
    "O jogador precisa acertar o número\n",
    "Informar a quantidade de palpites'''\n",
    "\n",
    "from random import randint\n",
    "\n",
    "computador = randint(0, 10)\n",
    "print('Tente adivinhar o número!!! ')\n",
    "acertou = False\n",
    "palpite = 0\n",
    "\n",
    "while not acertou:\n",
    "    jogador = int(input('Digite seu palpite: '))\n",
    "    palpite += 1\n",
    "    if jogador == computador:\n",
    "        acertou = True\n",
    "    else:\n",
    "        if jogador < computador:\n",
    "            print('Mais...')\n",
    "        elif jogador > computador:\n",
    "            print('Menos...')\n",
    "print(f'Você acertou o número {computador} após {palpite} palpites')"
   ]
  },
  {
   "cell_type": "code",
   "execution_count": null,
   "metadata": {},
   "outputs": [],
   "source": [
    "from time import sleep\n",
    "n1 = int(input('Digite o 1º número: '))\n",
    "n2 = int(input('Digite o 2º número: '))\n",
    "opcao = 0\n",
    "\n",
    "while opcao != 5:\n",
    "    print('''\\n[1] Somar\n",
    "[2] Multiplicar\n",
    "[3] Maior\n",
    "[4] Novos números\n",
    "[5] Sair do programa''')\n",
    "    opcao = int(input('\\n>>>> Esolha uma opção: '))\n",
    "    print()\n",
    "    if opcao == 1:\n",
    "        print(f'A soma entre {n1} e {n2} é {n1 + n2}')\n",
    "    elif opcao == 2:\n",
    "        print(f'A multiplicação entre {n1} e {n2} é {n1 * n2}')\n",
    "    elif opcao == 3:\n",
    "        if n1 > n2:\n",
    "            print(f'{n1} é maior que {n2}')\n",
    "        else:\n",
    "            print(f'{n2} é maior que {n1}')\n",
    "    elif opcao == 4:\n",
    "        print('Informe novos números.')\n",
    "        n1 = int(input('Digite um novo número: '))\n",
    "        n2 = int(input('Digite outro número: '))\n",
    "    elif opcao == 5:\n",
    "        print('Finalizando programa!!!')\n",
    "    else:\n",
    "        print('Opção inválida. Tente novamente!')\n",
    "    sleep(2)\n",
    "print('Fim do programa')\n"
   ]
  },
  {
   "cell_type": "code",
   "execution_count": null,
   "metadata": {},
   "outputs": [],
   "source": [
    "### EX 60 ###\n",
    "\n",
    "# from math import factorial\n",
    "# num = int(input('Digite um número: '))\n",
    "# print(f'O fatorial de {num} é {factorial(num)}')\n",
    "\n",
    "\n",
    "n = int(input('Número: '))\n",
    "c = n\n",
    "f = 1\n",
    "print(f'O fatorial de {n}! é: ', end='')\n",
    "\n",
    "while c > 0:\n",
    "    print(f'{c}', end=' ')\n",
    "    print('x' if c > 1 else '=', end=' ')\n",
    "    f *= c\n",
    "    c -= 1\n",
    "print(f'{f}')"
   ]
  },
  {
   "cell_type": "code",
   "execution_count": null,
   "metadata": {},
   "outputs": [],
   "source": [
    "### EX 61 ###\n",
    "\n",
    "print('Gerador de PA')\n",
    "print('-=' * 10)\n",
    "\n",
    "pri_termo = int(input('Primeiro termo: '))\n",
    "razao = int(input('Razão da PA: '))\n",
    "termo = pri_termo\n",
    "contador = 1\n",
    "\n",
    "while contador <= 10:\n",
    "    print('{} -> '.format(termo), end=' ')\n",
    "    termo += razao\n",
    "    contador += 1\n",
    "print('FIM')\n"
   ]
  }
 ],
 "metadata": {
  "kernelspec": {
   "display_name": "Python 3",
   "language": "python",
   "name": "python3"
  },
  "language_info": {
   "codemirror_mode": {
    "name": "ipython",
    "version": 3
   },
   "file_extension": ".py",
   "mimetype": "text/x-python",
   "name": "python",
   "nbconvert_exporter": "python",
   "pygments_lexer": "ipython3",
   "version": "3.11.2"
  },
  "orig_nbformat": 4
 },
 "nbformat": 4,
 "nbformat_minor": 2
}
