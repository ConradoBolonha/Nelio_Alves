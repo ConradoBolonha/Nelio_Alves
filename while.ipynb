{
 "cells": [
  {
   "cell_type": "code",
   "execution_count": null,
   "metadata": {},
   "outputs": [],
   "source": [
    "qtdade_colunas = 5\n",
    "qtdade_linhas = 5\n",
    "\n",
    "linha = 1\n",
    "\n",
    "while linha <= qtdade_linhas:\n",
    "    coluna = 1\n",
    "    while coluna <= qtdade_colunas:\n",
    "        print(f'{linha=}, {coluna=}')\n",
    "        coluna += 1\n",
    "    linha += 1\n",
    "    \n",
    "print('FIM')\n"
   ]
  },
  {
   "cell_type": "code",
   "execution_count": null,
   "metadata": {},
   "outputs": [],
   "source": [
    "nome = 'Conrado Pinheiro Bolonha'\n",
    "indice = 0\n",
    "novo_nome = ''\n",
    "\n",
    "while indice < len(nome):\n",
    "\tletra = nome[indice]\n",
    "\tnovo_nome += f'*{letra}'\n",
    "\tindice += 1\n",
    "novo_nome += '*' # --> Adiciona um \"*\" após o último índice.\n",
    "print(novo_nome)"
   ]
  },
  {
   "cell_type": "code",
   "execution_count": 22,
   "metadata": {},
   "outputs": [],
   "source": [
    "### CALCULADORA ###\n",
    "\n",
    "n1 = float(input('Primeiro número: '))\n",
    "n2 = float(input('Segundo número: '))\n",
    "\n",
    "opcao = input('Qual operação deseja fazer:\\n[so]mar, \\n[su]btrair, \\n[mu]ltiplicar, \\n[di]vidir' )\n"
   ]
  },
  {
   "cell_type": "code",
   "execution_count": 26,
   "metadata": {},
   "outputs": [
    {
     "name": "stdout",
     "output_type": "stream",
     "text": [
      "9\n"
     ]
    }
   ],
   "source": [
    "frase = 'Python é uma linguagem legal. ' \\\n",
    "        'Foi criado por Guido van Rossum. ' \\\n",
    "        'Hoje é dia doze de junho'\n",
    "        \n",
    "print(frase.count('o'))"
   ]
  }
 ],
 "metadata": {
  "kernelspec": {
   "display_name": "Python 3",
   "language": "python",
   "name": "python3"
  },
  "language_info": {
   "codemirror_mode": {
    "name": "ipython",
    "version": 3
   },
   "file_extension": ".py",
   "mimetype": "text/x-python",
   "name": "python",
   "nbconvert_exporter": "python",
   "pygments_lexer": "ipython3",
   "version": "3.11.2"
  },
  "orig_nbformat": 4
 },
 "nbformat": 4,
 "nbformat_minor": 2
}
