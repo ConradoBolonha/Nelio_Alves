{
 "cells": [
  {
   "cell_type": "code",
   "execution_count": null,
   "metadata": {},
   "outputs": [],
   "source": [
    "qtdade_colunas = 5\n",
    "qtdade_linhas = 5\n",
    "\n",
    "linha = 1\n",
    "\n",
    "while linha <= qtdade_linhas:\n",
    "    coluna = 1\n",
    "    while coluna <= qtdade_colunas:\n",
    "        print(f'{linha=}, {coluna=}')\n",
    "        coluna += 1\n",
    "    linha += 1\n",
    "    \n",
    "print('FIM')\n"
   ]
  },
  {
   "cell_type": "code",
   "execution_count": null,
   "metadata": {},
   "outputs": [],
   "source": []
  }
 ],
 "metadata": {
  "kernelspec": {
   "display_name": "Python 3",
   "language": "python",
   "name": "python3"
  },
  "language_info": {
   "codemirror_mode": {
    "name": "ipython",
    "version": 3
   },
   "file_extension": ".py",
   "mimetype": "text/x-python",
   "name": "python",
   "nbconvert_exporter": "python",
   "pygments_lexer": "ipython3",
   "version": "3.11.2"
  },
  "orig_nbformat": 4
 },
 "nbformat": 4,
 "nbformat_minor": 2
}
