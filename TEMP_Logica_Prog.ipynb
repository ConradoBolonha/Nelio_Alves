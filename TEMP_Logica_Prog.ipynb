{
 "cells": [
  {
   "cell_type": "code",
   "execution_count": null,
   "metadata": {},
   "outputs": [],
   "source": [
    "### FÓRMULA DE BHASKARA ###\n",
    "\n",
    "coe_a = float(input('Coeficiente de A: '))\n",
    "coe_b = float(input('Coeficiente de B: '))\n",
    "coe_c = float(input('Coeficiente de C: '))\n",
    "delta = coe_b ** 2 - 4 * coe_a * coe_c\n",
    "x1 = (- coe_b + delta ** (1/2)) / (2 * coe_a)\n",
    "x2 = (- coe_b - delta ** (1/2)) / (2 * coe_a)\n",
    "\n",
    "if coe_a == 0 or delta < 0:\n",
    "    print('Essa equação não possui raízes')\n",
    "    print('Obs.: Coeficiente A e valor de delta não podem ser 0')\n",
    "else:\n",
    "    print(f'X1 = {x1:.4f}')\n",
    "    print(f'X2 = {x2:.4f}')\n"
   ]
  },
  {
   "cell_type": "code",
   "execution_count": null,
   "metadata": {},
   "outputs": [],
   "source": [
    "### MENOR DE TRÊS NÚMEROS INTEIROS ###\n",
    "\n",
    "n1 = int(input('1º numero: '))\n",
    "n2 = int(input('2º numero: '))\n",
    "n3 = int(input('3º numero: '))\n",
    "menor = 0\n",
    "\n",
    "if n1 < n2 < n3:\n",
    "    menor = n1\n",
    "elif n1 > n2 < n3:\n",
    "    menor = n2\n",
    "else:\n",
    "    menor = n3\n",
    "print(f'O menor número é o {menor}')\n"
   ]
  },
  {
   "cell_type": "code",
   "execution_count": null,
   "metadata": {},
   "outputs": [],
   "source": [
    "### DIA DA SEMANA ###\n",
    "\n",
    "dia = int(input('Dia: '))\n",
    "semana = ''\n",
    "\n",
    "if dia < 0 or dia >= 8:\n",
    "    print('Inválido')\n",
    "\n",
    "elif dia == 1:\n",
    "    semana = 'Domingo'\n",
    "elif dia == 2:\n",
    "    semana = 'Segunda'\n",
    "elif dia == 3:\n",
    "    semana = 'Terça'\n",
    "elif dia == 4:\n",
    "    semana = 'Quarta'\n",
    "elif dia == 5:\n",
    "    semana = 'Quinta'\n",
    "elif dia == 6:\n",
    "    semana = 'Sexta'\n",
    "else:\n",
    "    print('Sábado')\n",
    "print(semana)\n"
   ]
  },
  {
   "cell_type": "code",
   "execution_count": null,
   "metadata": {},
   "outputs": [],
   "source": [
    "### VALOR PRODUTO ###\n",
    "\n",
    "plano = 50.00\n",
    "consumo = int(input('Minutos utilizados: '))\n",
    "valor = ''\n",
    "\n",
    "if consumo <= 100:\n",
    "\tvalor = plano\n",
    "if consumo >= 101:\n",
    "    valor = (consumo - 100) * 2 + plano\n",
    "print(f'Você vai pagar R${valor:.2f}')\n",
    "\n",
    "preco_prod = float(input('Preço unitário do produto: R$ '))\n",
    "qdade_prod = float(input('Quantidade do produto: '))\n",
    "valor_pago_cli = float(input('Valor cliente: R$ '))\n",
    "valor_prod = preco_prod * qdade_prod\n",
    "diferenca = valor_prod - valor_pago_cli\n",
    "troco = valor_pago_cli - valor_prod\n",
    "\n",
    "if valor_pago_cli < valor_prod:\n",
    "\tprint(f'Dinheiro insuficiente. Faltam R$ {diferenca:.2f} para finalizar a compra.')\n",
    "else:\n",
    "\t print(f'O produto custou R$ {valor_prod:.2f} e o troco é de R$ {troco:.2f}')"
   ]
  },
  {
   "cell_type": "code",
   "execution_count": null,
   "metadata": {},
   "outputs": [],
   "source": [
    "### CÁLCULO DIABETES ###\n",
    "\n",
    "qdade_glicose = float(input('Qtade. glicose: '))\n",
    "\n",
    "if qdade_glicose <= 100:\n",
    "\tprint('NORMAL')\n",
    "elif qdade_glicose <= 140:\n",
    "\tprint('ELEVADO')\n",
    "else:\n",
    "\tprint('DIABETES')"
   ]
  },
  {
   "cell_type": "code",
   "execution_count": null,
   "metadata": {},
   "outputs": [],
   "source": [
    "### DISTÂNCIA ARREMESSO DE DARDO ###\n",
    "\n",
    "distancia = []\n",
    "\n",
    "for cont in range(1, 4):\n",
    "\tlancamento = float(input(f'Distância do {cont}º dardo: '))\n",
    "\tdistancia.append(lancamento)\n",
    "print(f'MAIOR DISTÂNCIA: {max(distancia):.2f}')\n"
   ]
  },
  {
   "cell_type": "code",
   "execution_count": null,
   "metadata": {},
   "outputs": [],
   "source": [
    "### CONVERSÃO DE TEMPERATURAS (CELCIUS & FAHRENHEIT)\n",
    "\n",
    "escala = str(input('Escolha a escala de temperatura: [C]elsius ou [F]ahrenheit' )).upper()\n",
    "conversao = ''\n",
    "\n",
    "if escala == 'C':\n",
    "    temp = float(input('Digite a temperatura em Celcius: '))\n",
    "    conversao = (temp * 1.8) + 32\n",
    "    print(f'{temp}°C corresponde a {conversao:.1f}°F')\n",
    "else:\n",
    "    escala == 'F'\n",
    "    temp = float(input('Digite a temperatura em Fahrenheit: '))\n",
    "    conversao = (temp - 32) / 1.8\n",
    "    print(f'{temp}°F corresponde a {conversao:.1f}°C')\n",
    "\n",
    "print('🥵')\n"
   ]
  },
  {
   "cell_type": "code",
   "execution_count": null,
   "metadata": {},
   "outputs": [],
   "source": [
    "### VALOR DE VENDA DE UM PRODUTO ###\n",
    "\n",
    "cod_item = int(input('Código do produto: '))\n",
    "qdade_item = int(input('Quantidade do produto: '))\n",
    "valor_item = ''\n",
    "\n",
    "if cod_item == 1:\n",
    "    valor_item = qdade_item * 5.00\n",
    "elif cod_item == 2:\n",
    "    valor_item = qdade_item * 3.50\n",
    "elif cod_item == 3:\n",
    "    valor_item = qdade_item * 4.80\n",
    "elif cod_item == 4:\n",
    "    valor_item = qdade_item * 8.90\n",
    "else:\n",
    "    valor_item = qdade_item * 7.32\n",
    "print(f'VALOR A PAGAR É DE R$ {valor_item:.2f}')\n"
   ]
  },
  {
   "cell_type": "code",
   "execution_count": null,
   "metadata": {},
   "outputs": [],
   "source": [
    "### MÚLTIPLOS ###\n",
    "\n",
    "n1 = int(input('Digite um número: '))\n",
    "n2 = int(input('Digite outro número: '))\n",
    "\n",
    "if n1 % n2 == 0 or n2 % n1 == 0:\n",
    "    print('Múltiplos')\n",
    "else:\n",
    "    print('NÃO são múltiplos')\n"
   ]
  },
  {
   "cell_type": "code",
   "execution_count": null,
   "metadata": {},
   "outputs": [],
   "source": [
    "### ALGORITIMO AUMENTO DE SALÁRIO ###\n",
    "\n",
    "sal = float(input('Valor salário: '))\n",
    "vl_novo_sal = ''\n",
    "aumento = ''\n",
    "porcent = ''\n",
    "\n",
    "if sal <= 1000:\n",
    "\tvl_novo_sal = sal * 0.2 + sal\n",
    "\taumento = sal * 0.2\n",
    "\tporcent = 0.20 * 100\n",
    "elif sal <= 3000:\n",
    "\tvl_novo_sal = sal * 0.15 + sal\n",
    "\taumento = sal * 0.15\n",
    "\tporcent = 0.15 * 100\n",
    "elif sal <= 8000:\n",
    "\tvl_novo_sal = sal * 0.1 + sal\n",
    "\taumento = sal * 0.1\n",
    "\tporcent = 0.10 * 100\n",
    "else:\n",
    "\tvl_novo_sal = sal * 0.05 + sal\n",
    "\taumento = sal * 0.05\n",
    "\tporcent = 0.05 * 100\n",
    "\n",
    "print(f'Valor salário atual = R$ {sal:.2f}')\n",
    "print(f'Valor do aumento = R$ {aumento:.2f}')\n",
    "print(f'Valor do novo salário = R$ {vl_novo_sal:.2f}')\n",
    "print(f'% de aumento = {porcent:.0f}%')"
   ]
  },
  {
   "cell_type": "code",
   "execution_count": null,
   "metadata": {},
   "outputs": [],
   "source": [
    "### CÁLCULO TEMPO DE JOGO ###\n",
    "\n",
    "h_inic = int(input('Hora inicial: '))\n",
    "h_final = int(input('Hora final: '))\n",
    "h_jogo = ''\n",
    "\n",
    "if h_final > h_inic:\n",
    "\th_jogo = h_final - h_inic\n",
    "else:\n",
    "\th_jogo = (24 - h_inic) + h_final\n",
    "\n",
    "print(f'Hora inicial: {h_inic}')\n",
    "print(f'Hora final: {h_final}')\n",
    "print(f'O JOGO DUROU {h_jogo} HORA(S)')"
   ]
  },
  {
   "cell_type": "code",
   "execution_count": null,
   "metadata": {},
   "outputs": [],
   "source": [
    "### CÁCULO DE QUADRANTE ###\n",
    "\n",
    "x = float(input('Valor do eixo X: '))\n",
    "y = float(input('Valor do eixo Y: '))\n",
    "quadrante = ''\n",
    "\n",
    "if x >= 1 and y >= 1:\n",
    "    quadrante = 'Q1'\n",
    "elif y >= 1 and x <= -1:\n",
    "    quadrante = 'Q2'\n",
    "elif x <= -1 and y <= -1:\n",
    "    quadrante = 'Q3'\n",
    "elif y <= -1 and x >= 0:\n",
    "    quadrante = 'Q4'\n",
    "elif y == 0 and x >= 1:\n",
    "    quadrante = 'Eixo X'\n",
    "elif x == 0 and y >= 1:\n",
    "    quadrante = 'Eixo Y'\n",
    "else:\n",
    "    quadrante = 'Origem'\n",
    "\n",
    "print(f'{quadrante}')"
   ]
  },
  {
   "cell_type": "code",
   "execution_count": null,
   "metadata": {},
   "outputs": [],
   "source": [
    "### TESTE DE MESA 1 ###\n",
    "\n",
    "x = 5\n",
    "y = 0\n",
    "\n",
    "while x > 2:\n",
    "    x = x - 1\n",
    "    print(f'X = {x}')\n",
    "    y = y + x\n",
    "    print(f'Y = {y}')\n",
    "print('FIM')\n"
   ]
  },
  {
   "cell_type": "code",
   "execution_count": 3,
   "metadata": {},
   "outputs": [
    {
     "name": "stdout",
     "output_type": "stream",
     "text": [
      "6\n",
      "3\n",
      "DECRESCENTE\n"
     ]
    }
   ],
   "source": [
    "n1 = int(input('Digite um número: '))\n",
    "n2 = int(input('Digite outro número: '))\n",
    "\n",
    "print(n1)\n",
    "print(n2)\n",
    "    \n",
    "while n1 != n2:\n",
    "\n",
    "    if n1 < n2:\n",
    "        print('CRESCENTE')\n",
    "        break\n",
    "    elif n1 > n2:\n",
    "        print('DECRESCENTE')\n",
    "        break\n",
    "else:\n",
    "    print('ENCERRADO')\n"
   ]
  }
 ],
 "metadata": {
  "kernelspec": {
   "display_name": "Python 3",
   "language": "python",
   "name": "python3"
  },
  "language_info": {
   "codemirror_mode": {
    "name": "ipython",
    "version": 3
   },
   "file_extension": ".py",
   "mimetype": "text/x-python",
   "name": "python",
   "nbconvert_exporter": "python",
   "pygments_lexer": "ipython3",
   "version": "3.11.2"
  },
  "orig_nbformat": 4
 },
 "nbformat": 4,
 "nbformat_minor": 2
}
