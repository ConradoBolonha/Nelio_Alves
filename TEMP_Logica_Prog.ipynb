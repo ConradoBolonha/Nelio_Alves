{
 "cells": [
  {
   "cell_type": "code",
   "execution_count": null,
   "metadata": {},
   "outputs": [],
   "source": [
    "### FÓRMULA DE BHASKARA EM PYTHON ###\n",
    "\n",
    "coe_a = float(input('Coeficiente de A: '))\n",
    "coe_b = float(input('Coeficiente de B: '))\n",
    "coe_c = float(input('Coeficiente de C: '))\n",
    "delta = coe_b ** 2 - 4 * coe_a * coe_c\n",
    "x1 = (- coe_b + delta ** (1/2)) / (2 * coe_a)\n",
    "x2 = (- coe_b - delta ** (1/2)) / (2 * coe_a)\n",
    "\n",
    "if coe_a == 0 or delta < 0:\n",
    "    print('Essa equação não possui raízes')\n",
    "    print('Obs.: Coeficiente A e valor de delta não podem ser 0')\n",
    "else:\n",
    "    print(f'X1 = {x1:.4f}')\n",
    "    print(f'X2 = {x2:.4f}')\n"
   ]
  },
  {
   "cell_type": "code",
   "execution_count": null,
   "metadata": {},
   "outputs": [],
   "source": [
    "### MENOR DE TRÊS NÚMEROS INTEIROS ###\n",
    "\n",
    "n1 = int(input('1º numero: '))\n",
    "n2 = int(input('2º numero: '))\n",
    "n3 = int(input('3º numero: '))\n",
    "menor = 0\n",
    "\n",
    "if n1 < n2 < n3:\n",
    "    menor = n1\n",
    "elif n1 > n2 < n3:\n",
    "    menor = n2\n",
    "else:\n",
    "    menor = n3\n",
    "print(f'O menor número é o {menor}')\n"
   ]
  },
  {
   "cell_type": "code",
   "execution_count": null,
   "metadata": {},
   "outputs": [],
   "source": [
    "### DIA DA SEMANA ###\n",
    "\n",
    "dia = int(input('Dia: '))\n",
    "semana = ''\n",
    "\n",
    "if dia < 0 or dia >= 8:\n",
    "    print('Inválido')\n",
    "\n",
    "elif dia == 1:\n",
    "    semana = 'Domingo'\n",
    "elif dia == 2:\n",
    "    semana = 'Segunda'\n",
    "elif dia == 3:\n",
    "    semana = 'Terça'\n",
    "elif dia == 4:\n",
    "    semana = 'Quarta'\n",
    "elif dia == 5:\n",
    "    semana = 'Quinta'\n",
    "elif dia == 6:\n",
    "    semana = 'Sexta'\n",
    "else:\n",
    "    print('Sábado')\n",
    "print(semana)\n"
   ]
  },
  {
   "cell_type": "code",
   "execution_count": null,
   "metadata": {},
   "outputs": [],
   "source": [
    "### VALOR PRODUTO ###\n",
    "\n",
    "plano = 50.00\n",
    "consumo = int(input('Minutos utilizados: '))\n",
    "valor = ''\n",
    "\n",
    "if consumo <= 100:\n",
    "\tvalor = plano\n",
    "if consumo >= 101:\n",
    "    valor = (consumo - 100) * 2 + plano\n",
    "print(f'Você vai pagar R${valor:.2f}')\n",
    "\n",
    "preco_prod = float(input('Preço unitário do produto: R$ '))\n",
    "qdade_prod = float(input('Quantidade do produto: '))\n",
    "valor_pago_cli = float(input('Valor cliente: R$ '))\n",
    "valor_prod = preco_prod * qdade_prod\n",
    "diferenca = valor_prod - valor_pago_cli\n",
    "troco = valor_pago_cli - valor_prod\n",
    "\n",
    "if valor_pago_cli < valor_prod:\n",
    "\tprint(f'Dinheiro insuficiente. Faltam R$ {diferenca:.2f} para finalizar a compra.')\n",
    "else:\n",
    "\t print(f'O produto custou R$ {valor_prod:.2f} e o troco é de R$ {troco:.2f}')"
   ]
  },
  {
   "cell_type": "code",
   "execution_count": null,
   "metadata": {},
   "outputs": [],
   "source": [
    "### CÁLCULO DIABETES ###\n",
    "\n",
    "qdade_glicose = float(input('Qtade. glicose: '))\n",
    "\n",
    "if qdade_glicose <= 100:\n",
    "\tprint('NORMAL')\n",
    "elif qdade_glicose <= 140:\n",
    "\tprint('ELEVADO')\n",
    "else:\n",
    "\tprint('DIABETES')"
   ]
  },
  {
   "cell_type": "code",
   "execution_count": null,
   "metadata": {},
   "outputs": [],
   "source": [
    "### DISTÂNCIA ARREMESSO DE DARDO ###\n",
    "\n",
    "distancia = []\n",
    "\n",
    "for cont in range(1, 4):\n",
    "\tlancamento = float(input(f'Distância do {cont}º dardo: '))\n",
    "\tdistancia.append(lancamento)\n",
    "print(f'MAIOR DISTÂNCIA: {max(distancia):.2f}')\n"
   ]
  },
  {
   "cell_type": "code",
   "execution_count": 41,
   "metadata": {},
   "outputs": [
    {
     "name": "stdout",
     "output_type": "stream",
     "text": [
      "95.32°F corresponde a 35.2°C\n"
     ]
    }
   ],
   "source": [
    "escala = str(input('Escolha a escala de temperatura: [C]elsius ou [F]ahrenheit' )).upper()\n",
    "conversao = ''\n",
    "\n",
    "if escala == 'C':\n",
    "    temp = float(input('Digite a temperatura em Celcius: '))\n",
    "    conversao = (temp * 1.8) + 32\n",
    "    print(f'{temp}°C corresponde a {conversao:.1f}°F')\n",
    "if escala == 'F':\n",
    "    temp = float(input('Digite a temperatura em Fahrenheit: '))\n",
    "    conversao = (temp - 32) / 1.8\n",
    "    print(f'{temp}°F corresponde a {conversao:.1f}°C')\n"
   ]
  }
 ],
 "metadata": {
  "kernelspec": {
   "display_name": "Python 3",
   "language": "python",
   "name": "python3"
  },
  "language_info": {
   "codemirror_mode": {
    "name": "ipython",
    "version": 3
   },
   "file_extension": ".py",
   "mimetype": "text/x-python",
   "name": "python",
   "nbconvert_exporter": "python",
   "pygments_lexer": "ipython3",
   "version": "3.11.2"
  },
  "orig_nbformat": 4
 },
 "nbformat": 4,
 "nbformat_minor": 2
}
