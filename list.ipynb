{
 "cells": [
  {
   "cell_type": "code",
   "execution_count": null,
   "metadata": {},
   "outputs": [],
   "source": [
    "lista = ['Ana', 'Karen', 'Eli', 'Simon', 'Sandra']\n",
    "\n",
    "nome = input('Nome na lista? ')\n",
    "\n",
    "if nome in lista:\n",
    "    print('Sim, tem esse nome.')\n",
    "else:\n",
    "    print('Nome não encontrado')"
   ]
  },
  {
   "cell_type": "code",
   "execution_count": null,
   "metadata": {},
   "outputs": [],
   "source": [
    "lis_2 = ['Ana', 'Karen', 'Eli', 'Simon', 'Sandra', 'Elisa', ['Marcela', 'João', 'Wagner']]\n",
    "lis_2[6][0] = 'Jessica'\n",
    "print(lis_2[6][0])"
   ]
  },
  {
   "cell_type": "code",
   "execution_count": null,
   "metadata": {},
   "outputs": [],
   "source": [
    "lista = ['Ana', 'Karen', 'Eli', 'Simon', 'Sandra']\n",
    "lista[2] = 'Raimundo'\n",
    "print(lista)"
   ]
  },
  {
   "cell_type": "code",
   "execution_count": null,
   "metadata": {},
   "outputs": [],
   "source": [
    "lista = ['Ana', 'Karen', 'Eli', 'Simon', 'Sandra']\n",
    "print(lista[-2])"
   ]
  },
  {
   "cell_type": "code",
   "execution_count": null,
   "metadata": {},
   "outputs": [],
   "source": [
    "lista_mercado = ['Maça', 'Uva', 'Farinha', 'Arroz', 'Biscoito', 'Macarrão']\n",
    "item_lista = lista_mercado[3]\n",
    "\n",
    "print(item_lista)"
   ]
  },
  {
   "cell_type": "code",
   "execution_count": null,
   "metadata": {},
   "outputs": [],
   "source": [
    "lista_mercado = ['Maça', 'Uva', 'Farinha', 'Arroz', 'Biscoito', 'Macarrão']\n",
    "lista_mercado.insert(0, 'Abacaxi')\n",
    "\n",
    "print(lista_mercado)"
   ]
  },
  {
   "cell_type": "code",
   "execution_count": null,
   "metadata": {},
   "outputs": [],
   "source": [
    "lista_mercado = ['Maça', 'Uva', 'Mamão', 'Laranja'], ['Presunto', 'Queijo', 'Manteiga'], ['Farinha', 'Arroz', 'Biscoito', 'Macarrão']\n",
    "\n",
    "for nomes in lista_mercado:\n",
    "    print(nomes)\n",
    "    for itens in nomes:\n",
    "        print(itens)\n"
   ]
  },
  {
   "cell_type": "code",
   "execution_count": 28,
   "metadata": {},
   "outputs": [
    {
     "name": "stdout",
     "output_type": "stream",
     "text": [
      "Maça Mamão\n"
     ]
    }
   ],
   "source": [
    "lista_2 = ['Maça', 'Uva', 'Mamão', 'Laranja']\n",
    "a, b, c, d = lista_2\n",
    "print(a, c)"
   ]
  }
 ],
 "metadata": {
  "kernelspec": {
   "display_name": "Python 3",
   "language": "python",
   "name": "python3"
  },
  "language_info": {
   "codemirror_mode": {
    "name": "ipython",
    "version": 3
   },
   "file_extension": ".py",
   "mimetype": "text/x-python",
   "name": "python",
   "nbconvert_exporter": "python",
   "pygments_lexer": "ipython3",
   "version": "3.11.2"
  },
  "orig_nbformat": 4
 },
 "nbformat": 4,
 "nbformat_minor": 2
}
